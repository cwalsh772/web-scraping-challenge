{
 "cells": [
  {
   "cell_type": "code",
   "execution_count": 1,
   "metadata": {},
   "outputs": [],
   "source": [
    "# Declare Dependencies \n",
    "\n",
    "from splinter import Browser\n",
    "import pandas as pd\n",
    "from bs4 import BeautifulSoup\n",
    "import requests"
   ]
  },
  {
   "cell_type": "code",
   "execution_count": 2,
   "metadata": {},
   "outputs": [
    {
     "name": "stdout",
     "output_type": "stream",
     "text": [
      "Nasa's Latest News:\n",
      "\n",
      "NASA to Broadcast Mars 2020 Perseverance Launch, Prelaunch Activities\n",
      "\n",
      "\n",
      "Nasa's Latest News Description:\n",
      "\n",
      "Starting July 27, news activities will cover everything from mission engineering and science to returning samples from Mars to, of course, the launch itself.\n",
      "\n",
      "\n",
      "\n",
      "\n",
      "\n"
     ]
    }
   ],
   "source": [
    "url1 = 'https://mars.nasa.gov/news/'\n",
    "response = requests.get(url1)\n",
    "soup = BeautifulSoup(response.text, 'html.parser')\n",
    "news = soup.find_all('div', class_=\"content_title\")[0].text\n",
    "news_p = soup.find_all('div', class_='rollover_description')[0].text\n",
    "\n",
    "print(f\"Nasa's Latest News:{news}\")\n",
    "print(f\"Nasa's Latest News Description:{news_p}\")\n"
   ]
  },
  {
   "cell_type": "markdown",
   "metadata": {},
   "source": [
    "# JPL Mars Space Images - Featured Image"
   ]
  },
  {
   "cell_type": "code",
   "execution_count": 3,
   "metadata": {},
   "outputs": [
    {
     "name": "stdout",
     "output_type": "stream",
     "text": [
      "The Current Featured Image at JBL is:\n",
      "\n",
      "https://www.jpl.nasa.gov/spaceimages/images/wallpaper/PIA17009-1920x1200.jpg\n"
     ]
    }
   ],
   "source": [
    "url2  = 'https://www.jpl.nasa.gov/spaceimages/?search=&category=Mars'\n",
    "response = requests.get(url2)\n",
    "soup = BeautifulSoup(response.text, 'html.parser')\n",
    "full_url = soup.find(\"article\", class_=\"carousel_item\")\n",
    "full_url = full_url['style'].replace('background-image: url(','').replace(');', '')[1:-1]\n",
    "featured_image_url = \"https://www.jpl.nasa.gov\" + full_url\n",
    "\n",
    "print(f\"The Current Featured Image at JBL is:\\n\\n{featured_image_url}\")"
   ]
  },
  {
   "cell_type": "markdown",
   "metadata": {},
   "source": [
    "# Mars Weather"
   ]
  },
  {
   "cell_type": "code",
   "execution_count": 4,
   "metadata": {},
   "outputs": [
    {
     "ename": "AttributeError",
     "evalue": "'NoneType' object has no attribute 'text'",
     "output_type": "error",
     "traceback": [
      "\u001b[1;31m---------------------------------------------------------------------------\u001b[0m",
      "\u001b[1;31mAttributeError\u001b[0m                            Traceback (most recent call last)",
      "\u001b[1;32m<ipython-input-4-08074c691dd9>\u001b[0m in \u001b[0;36m<module>\u001b[1;34m\u001b[0m\n\u001b[0;32m      2\u001b[0m \u001b[0mresponse\u001b[0m \u001b[1;33m=\u001b[0m \u001b[0mrequests\u001b[0m\u001b[1;33m.\u001b[0m\u001b[0mget\u001b[0m\u001b[1;33m(\u001b[0m\u001b[0murl3\u001b[0m\u001b[1;33m)\u001b[0m\u001b[1;33m\u001b[0m\u001b[1;33m\u001b[0m\u001b[0m\n\u001b[0;32m      3\u001b[0m \u001b[0msoup\u001b[0m \u001b[1;33m=\u001b[0m \u001b[0mBeautifulSoup\u001b[0m\u001b[1;33m(\u001b[0m\u001b[0mresponse\u001b[0m\u001b[1;33m.\u001b[0m\u001b[0mtext\u001b[0m\u001b[1;33m,\u001b[0m \u001b[1;34m'html.parser'\u001b[0m\u001b[1;33m)\u001b[0m\u001b[1;33m\u001b[0m\u001b[1;33m\u001b[0m\u001b[0m\n\u001b[1;32m----> 4\u001b[1;33m \u001b[0mmars_weather\u001b[0m \u001b[1;33m=\u001b[0m \u001b[0msoup\u001b[0m\u001b[1;33m.\u001b[0m\u001b[0mfind\u001b[0m\u001b[1;33m(\u001b[0m\u001b[1;34m\"p\"\u001b[0m\u001b[1;33m,\u001b[0m \u001b[0mclass_\u001b[0m\u001b[1;33m=\u001b[0m\u001b[1;34m\"TweetTextSize TweetTextSize--normal js-tweet-text tweet-text\"\u001b[0m\u001b[1;33m)\u001b[0m\u001b[1;33m.\u001b[0m\u001b[0mtext\u001b[0m\u001b[1;33m\u001b[0m\u001b[1;33m\u001b[0m\u001b[0m\n\u001b[0m\u001b[0;32m      5\u001b[0m \u001b[1;33m\u001b[0m\u001b[0m\n\u001b[0;32m      6\u001b[0m \u001b[0mprint\u001b[0m\u001b[1;33m(\u001b[0m\u001b[1;34mf\"The Current Weather in Mars is:\\n\\n{mars_weather}\"\u001b[0m\u001b[1;33m)\u001b[0m\u001b[1;33m\u001b[0m\u001b[1;33m\u001b[0m\u001b[0m\n",
      "\u001b[1;31mAttributeError\u001b[0m: 'NoneType' object has no attribute 'text'"
     ]
    }
   ],
   "source": [
    "url3 = 'https://twitter.com/marswxreport?lang=en'\n",
    "response = requests.get(url3)\n",
    "soup = BeautifulSoup(response.text, 'html.parser')\n",
    "mars_weather = soup.find(\"p\", class_=\"TweetTextSize TweetTextSize--normal js-tweet-text tweet-text\").text\n",
    "\n",
    "print(f\"The Current Weather in Mars is:\\n\\n{mars_weather}\")"
   ]
  },
  {
   "cell_type": "markdown",
   "metadata": {},
   "source": [
    "# Mars Facts"
   ]
  },
  {
   "cell_type": "code",
   "execution_count": null,
   "metadata": {},
   "outputs": [],
   "source": [
    "#Mars facts\n",
    "url4 = \"https://space-facts.com/mars/\"\n",
    "mars_tabl = pd.read_html(url4)[-1]\n",
    "mars_tabl.columns=[\"Mars Profile \",\"Values\"]\n",
    "mars_tabl"
   ]
  },
  {
   "cell_type": "code",
   "execution_count": null,
   "metadata": {},
   "outputs": [],
   "source": [
    "html_mars_facts = mars_tabl.to_html()\n",
    "html_mars_facts"
   ]
  },
  {
   "cell_type": "markdown",
   "metadata": {},
   "source": [
    "# Mars Hemispheres"
   ]
  },
  {
   "cell_type": "code",
   "execution_count": null,
   "metadata": {},
   "outputs": [],
   "source": [
    "#Mars Hemispheres \n",
    "url5 = 'https://astrogeology.usgs.gov/search/results?q=hemisphere+enhanced&k1=target&v1=Mars'\n",
    "response = requests.get(url5)\n",
    "soup = BeautifulSoup(response.text, 'html.parser')"
   ]
  },
  {
   "cell_type": "code",
   "execution_count": null,
   "metadata": {},
   "outputs": [],
   "source": [
    "mars_1_name='Cerberus Hemisphere'\n",
    "mars_1='https://astrogeology.usgs.gov/search/map/Mars/Viking/cerberus_enhanced'\n",
    "response = requests.get(mars_1)\n",
    "soup = BeautifulSoup(response.text, 'html.parser')\n",
    "mars_1_img = soup.find(\"img\", class_=\"wide-image\")\n",
    "mars_1_img = mars_1_img['src']\n",
    "mars_1_img_url = \"https://astrogeology.usgs.gov\" + mars_1_img\n",
    "print(f\"The Cerberus Hemisphere Image:\\n\\n{mars_1_img_url}\")"
   ]
  },
  {
   "cell_type": "code",
   "execution_count": null,
   "metadata": {},
   "outputs": [],
   "source": [
    "# 2. Schiaperelli Hemisphere\n",
    "mars_2_name='Schiaperelli Hemisphere'\n",
    "mars_2='https://astrogeology.usgs.gov/search/map/Mars/Viking/schiaparelli_enhanced'\n",
    "response = requests.get(mars_2)\n",
    "soup = BeautifulSoup(response.text, 'html.parser')\n",
    "mars_2_img = soup.find(\"img\", class_=\"wide-image\")\n",
    "mars_2_img = mars_2_img['src']\n",
    "mars_2_img_url = \"https://astrogeology.usgs.gov\" + mars_2_img\n",
    "print(f\"The Schiaperelli Hemisphere Image:\\n\\n{mars_2_img_url}\")"
   ]
  },
  {
   "cell_type": "code",
   "execution_count": null,
   "metadata": {},
   "outputs": [],
   "source": [
    "# 3.Syrtis Major Hemisphere\n",
    "mars_3_name='Syrtis Major Hemisphere'\n",
    "mars_3='https://astrogeology.usgs.gov/search/map/Mars/Viking/syrtis_major_enhanced'\n",
    "response = requests.get(mars_3)\n",
    "soup = BeautifulSoup(response.text, 'html.parser')\n",
    "mars_3_img = soup.find(\"img\", class_=\"wide-image\")\n",
    "mars_3_img = mars_3_img['src']\n",
    "mars_3_img_url = \"https://astrogeology.usgs.gov\" + mars_3_img\n",
    "print(f\"The Syrtis Major Hemisphere Image:\\n\\n{mars_3_img_url}\")"
   ]
  },
  {
   "cell_type": "code",
   "execution_count": null,
   "metadata": {},
   "outputs": [],
   "source": [
    "# 4.Valles Marineris Hemisphere\n",
    "mars_4_name='Valles Marineris Hemisphere'\n",
    "mars_4='https://astrogeology.usgs.gov/search/map/Mars/Viking/valles_marineris_enhanced'\n",
    "response = requests.get(mars_4)\n",
    "soup = BeautifulSoup(response.text, 'html.parser')\n",
    "mars_4_img = soup.find(\"img\", class_=\"wide-image\")\n",
    "mars_4_img = mars_4_img['src']\n",
    "mars_4_img_url = \"https://astrogeology.usgs.gov\" + mars_4_img\n",
    "print(f\"The Valles Marineris Hemisphere Image:\\n\\n{mars_4_img_url}\")"
   ]
  },
  {
   "cell_type": "code",
   "execution_count": null,
   "metadata": {},
   "outputs": [],
   "source": [
    "mars_dic= {'latestmarsnews': news,\n",
    "           'newspar':  news_p,\n",
    "           'image': featured_image_url,\n",
    "           'weather': mars_weather,\n",
    "           'marsfacts': html_mars_facts,\n",
    "           'titles1':mars_1_name,\"imge_url1\":mars_1_img_url,\n",
    "           'titles2':mars_2_name,\"imge_url2\":mars_2_img_url,\n",
    "           'titles3':mars_3_name,\"imge_url3\":mars_3_img_url,\n",
    "           'titles4':mars_4_name,\"imge_url4\":mars_4_img_url \n",
    "           }\n",
    "mars_dic"
   ]
  }
 ],
 "metadata": {
  "kernelspec": {
   "display_name": "Python 3",
   "language": "python",
   "name": "python3"
  },
  "language_info": {
   "codemirror_mode": {
    "name": "ipython",
    "version": 3
   },
   "file_extension": ".py",
   "mimetype": "text/x-python",
   "name": "python",
   "nbconvert_exporter": "python",
   "pygments_lexer": "ipython3",
   "version": "3.7.6"
  }
 },
 "nbformat": 4,
 "nbformat_minor": 4
}
